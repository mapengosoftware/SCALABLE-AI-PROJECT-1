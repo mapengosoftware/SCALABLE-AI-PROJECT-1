{
 "cells": [
  {
   "cell_type": "markdown",
   "id": "59a80f48",
   "metadata": {},
   "source": [
    "# 📊 EDA: IMDB Sample Movie Reviews"
   ]
  },
  {
   "cell_type": "code",
   "execution_count": null,
   "id": "b6f6e593",
   "metadata": {},
   "outputs": [],
   "source": [
    "import pandas as pd\n",
    "import matplotlib.pyplot as plt\n",
    "import seaborn as sns\n",
    "\n",
    "# Load dataset\n",
    "file_path = '../data/raw/imdb_sample.csv'  # Update if needed\n",
    "df = pd.read_csv(file_path)\n",
    "df.head()"
   ]
  },
  {
   "cell_type": "markdown",
   "id": "f3efc01d",
   "metadata": {},
   "source": [
    "## 🔍 Class Distribution"
   ]
  },
  {
   "cell_type": "code",
   "execution_count": null,
   "id": "418ba89d",
   "metadata": {},
   "outputs": [],
   "source": [
    "sns.countplot(data=df, x='label')\n",
    "plt.title('Label Distribution')\n",
    "plt.show()"
   ]
  },
  {
   "cell_type": "markdown",
   "id": "25cdc30d",
   "metadata": {},
   "source": [
    "## 📈 Review Length Distribution"
   ]
  },
  {
   "cell_type": "code",
   "execution_count": null,
   "id": "55597365",
   "metadata": {},
   "outputs": [],
   "source": [
    "df['length'] = df['text'].apply(lambda x: len(x.split()))\n",
    "sns.histplot(data=df, x='length', bins=20)\n",
    "plt.title('Review Word Count Distribution')\n",
    "plt.xlabel('Word Count')\n",
    "plt.show()"
   ]
  },
  {
   "cell_type": "markdown",
   "id": "fc49c0dc",
   "metadata": {},
   "source": [
    "## 🧹 Check for Duplicates or Missing"
   ]
  },
  {
   "cell_type": "code",
   "execution_count": null,
   "id": "26e7aec6",
   "metadata": {},
   "outputs": [],
   "source": [
    "df.duplicated().sum(), df.isnull().sum()"
   ]
  }
 ],
 "metadata": {},
 "nbformat": 4,
 "nbformat_minor": 5
}